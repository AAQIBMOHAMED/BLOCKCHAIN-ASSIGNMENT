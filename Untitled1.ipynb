{
  "nbformat": 4,
  "nbformat_minor": 0,
  "metadata": {
    "colab": {
      "provenance": [],
      "authorship_tag": "ABX9TyOgq9oDR+ay6GxHeTPUAzqU",
      "include_colab_link": true
    },
    "kernelspec": {
      "name": "python3",
      "display_name": "Python 3"
    },
    "language_info": {
      "name": "python"
    }
  },
  "cells": [
    {
      "cell_type": "markdown",
      "metadata": {
        "id": "view-in-github",
        "colab_type": "text"
      },
      "source": [
        "<a href=\"https://colab.research.google.com/github/AAQIBMOHAMED/BLOCKCHAIN-ASSIGNMENT/blob/main/Untitled1.ipynb\" target=\"_parent\"><img src=\"https://colab.research.google.com/assets/colab-badge.svg\" alt=\"Open In Colab\"/></a>"
      ]
    },
    {
      "cell_type": "code",
      "execution_count": null,
      "metadata": {
        "colab": {
          "base_uri": "https://localhost:8080/"
        },
        "id": "2DVTYHszGhQQ",
        "outputId": "fe5a7c80-c354-46e4-f541-735c1b748c8a"
      },
      "outputs": [
        {
          "output_type": "stream",
          "name": "stdout",
          "text": [
            "Mining block 1...\n",
            "Block mined: 0002b3256e8ebdb9f4a83dcaa8bdb0464e466066ada2e6c0b4e82a26d4b0ba02\n",
            "Mining block 2...\n",
            "Block mined: 0009302dff5ce2d4c5fb6ed91adf6819c6e1f38f62d9386ef0658cd4a579a599\n",
            "{'index': 0, 'previous_hash': '0', 'timestamp': 1756710473.4086998, 'data': 'Genesis Block', 'nonce': 0, 'hash': '2d8668670f66e13828581aff7e73ce817fd6515b6005e0b1fd10b347b23d47b0'}\n",
            "{'index': 1, 'previous_hash': '2d8668670f66e13828581aff7e73ce817fd6515b6005e0b1fd10b347b23d47b0', 'timestamp': 1756710473.40916, 'data': {'amount': 100}, 'nonce': 5825, 'hash': '0002b3256e8ebdb9f4a83dcaa8bdb0464e466066ada2e6c0b4e82a26d4b0ba02'}\n",
            "{'index': 2, 'previous_hash': '0002b3256e8ebdb9f4a83dcaa8bdb0464e466066ada2e6c0b4e82a26d4b0ba02', 'timestamp': 1756710473.4838028, 'data': {'amount': 50}, 'nonce': 4821, 'hash': '0009302dff5ce2d4c5fb6ed91adf6819c6e1f38f62d9386ef0658cd4a579a599'}\n",
            "Blockchain valid? True\n"
          ]
        }
      ],
      "source": [
        "import hashlib\n",
        "import time\n",
        "import json\n",
        "\n",
        "\n",
        "class Block:\n",
        "    def __init__(self, index, previous_hash, timestamp, data, nonce=0):\n",
        "        self.index = index\n",
        "        self.previous_hash = previous_hash\n",
        "        self.timestamp = timestamp\n",
        "        self.data = data\n",
        "        self.nonce = nonce\n",
        "        self.hash = self.calculate_hash()\n",
        "\n",
        "    def calculate_hash(self):\n",
        "        block_string = json.dumps({\n",
        "            \"index\": self.index,\n",
        "            \"previous_hash\": self.previous_hash,\n",
        "            \"timestamp\": self.timestamp,\n",
        "            \"data\": self.data,\n",
        "            \"nonce\": self.nonce\n",
        "        }, sort_keys=True).encode()\n",
        "\n",
        "        return hashlib.sha256(block_string).hexdigest()\n",
        "\n",
        "    def mine_block(self, difficulty):\n",
        "        \"\"\"Simple Proof of Work\"\"\"\n",
        "        target = \"0\" * difficulty\n",
        "        while self.hash[:difficulty] != target:\n",
        "            self.nonce += 1\n",
        "            self.hash = self.calculate_hash()\n",
        "        print(f\"Block mined: {self.hash}\")\n",
        "\n",
        "\n",
        "class Blockchain:\n",
        "    def __init__(self):\n",
        "        self.chain = [self.create_genesis_block()]\n",
        "        self.difficulty = 3\n",
        "\n",
        "    def create_genesis_block(self):\n",
        "        return Block(0, \"0\", time.time(), \"Genesis Block\")\n",
        "\n",
        "    def get_latest_block(self):\n",
        "        return self.chain[-1]\n",
        "\n",
        "    def add_block(self, new_block):\n",
        "        new_block.previous_hash = self.get_latest_block().hash\n",
        "        new_block.mine_block(self.difficulty)\n",
        "        self.chain.append(new_block)\n",
        "\n",
        "    def is_chain_valid(self):\n",
        "        for i in range(1, len(self.chain)):\n",
        "            current = self.chain[i]\n",
        "            prev = self.chain[i - 1]\n",
        "\n",
        "            if current.hash != current.calculate_hash():\n",
        "                return False\n",
        "            if current.previous_hash != prev.hash:\n",
        "                return False\n",
        "        return True\n",
        "\n",
        "\n",
        "if __name__ == \"__main__\":\n",
        "    my_chain = Blockchain()\n",
        "    print(\"Mining block 1...\")\n",
        "    my_chain.add_block(Block(1, \"\", time.time(), {\"amount\": 100}))\n",
        "\n",
        "    print(\"Mining block 2...\")\n",
        "    my_chain.add_block(Block(2, \"\", time.time(), {\"amount\": 50}))\n",
        "\n",
        "    # Display blockchain\n",
        "    for block in my_chain.chain:\n",
        "        print(vars(block))\n",
        "\n",
        "    print(\"Blockchain valid?\", my_chain.is_chain_valid())\n"
      ]
    }
  ]
}